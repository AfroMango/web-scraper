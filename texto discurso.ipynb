{
 "cells": [
  {
   "cell_type": "markdown",
   "id": "3d7fc5a3-00de-4d2c-8a0c-c26fb2b9b84c",
   "metadata": {},
   "source": [
    "# Extracción del texto de un discruso"
   ]
  },
  {
   "cell_type": "markdown",
   "id": "a4df7ee6",
   "metadata": {},
   "source": [
    "This program will access a periodistic article in the web. It will read its content and then make a table with the words that it contains and how may time does each word appear."
   ]
  },
  {
   "cell_type": "code",
   "execution_count": 2,
   "id": "78141b14-0b3d-41c1-a7b0-aad72751146e",
   "metadata": {},
   "outputs": [
    {
     "name": "stdout",
     "output_type": "stream",
     "text": [
      "Requirement already satisfied: pandas in d:\\anaconda\\lib\\site-packages (2.1.4)\n",
      "Requirement already satisfied: numpy<2,>=1.23.2 in d:\\anaconda\\lib\\site-packages (from pandas) (1.26.4)\n",
      "Requirement already satisfied: python-dateutil>=2.8.2 in d:\\anaconda\\lib\\site-packages (from pandas) (2.8.2)\n",
      "Requirement already satisfied: pytz>=2020.1 in d:\\anaconda\\lib\\site-packages (from pandas) (2023.3.post1)\n",
      "Requirement already satisfied: tzdata>=2022.1 in d:\\anaconda\\lib\\site-packages (from pandas) (2023.3)\n",
      "Requirement already satisfied: six>=1.5 in d:\\anaconda\\lib\\site-packages (from python-dateutil>=2.8.2->pandas) (1.16.0)\n"
     ]
    }
   ],
   "source": [
    "# Instalación de librería pandas\n",
    "# Installing pandas library to build a table at the end of the excersise.\n",
    "import sys\n",
    "!{sys.executable} -m pip install pandas"
   ]
  },
  {
   "cell_type": "code",
   "execution_count": 19,
   "id": "412e3d85-ac29-459f-a78f-16b18f6cf021",
   "metadata": {},
   "outputs": [
    {
     "data": {
      "text/html": [
       "<div>\n",
       "<style scoped>\n",
       "    .dataframe tbody tr th:only-of-type {\n",
       "        vertical-align: middle;\n",
       "    }\n",
       "\n",
       "    .dataframe tbody tr th {\n",
       "        vertical-align: top;\n",
       "    }\n",
       "\n",
       "    .dataframe thead th {\n",
       "        text-align: right;\n",
       "    }\n",
       "</style>\n",
       "<table border=\"1\" class=\"dataframe\">\n",
       "  <thead>\n",
       "    <tr style=\"text-align: right;\">\n",
       "      <th></th>\n",
       "      <th>palabra</th>\n",
       "      <th>contador</th>\n",
       "    </tr>\n",
       "  </thead>\n",
       "  <tbody>\n",
       "    <tr>\n",
       "      <th>23</th>\n",
       "      <td>para</td>\n",
       "      <td>9</td>\n",
       "    </tr>\n",
       "    <tr>\n",
       "      <th>207</th>\n",
       "      <td>algo</td>\n",
       "      <td>9</td>\n",
       "    </tr>\n",
       "    <tr>\n",
       "      <th>115</th>\n",
       "      <td>cuando</td>\n",
       "      <td>8</td>\n",
       "    </tr>\n",
       "    <tr>\n",
       "      <th>76</th>\n",
       "      <td>woolf</td>\n",
       "      <td>7</td>\n",
       "    </tr>\n",
       "    <tr>\n",
       "      <th>253</th>\n",
       "      <td>como</td>\n",
       "      <td>7</td>\n",
       "    </tr>\n",
       "    <tr>\n",
       "      <th>...</th>\n",
       "      <td>...</td>\n",
       "      <td>...</td>\n",
       "    </tr>\n",
       "    <tr>\n",
       "      <th>244</th>\n",
       "      <td>situación</td>\n",
       "      <td>1</td>\n",
       "    </tr>\n",
       "    <tr>\n",
       "      <th>243</th>\n",
       "      <td>nuestra</td>\n",
       "      <td>1</td>\n",
       "    </tr>\n",
       "    <tr>\n",
       "      <th>240</th>\n",
       "      <td>ciclo</td>\n",
       "      <td>1</td>\n",
       "    </tr>\n",
       "    <tr>\n",
       "      <th>239</th>\n",
       "      <td>decidimos</td>\n",
       "      <td>1</td>\n",
       "    </tr>\n",
       "    <tr>\n",
       "      <th>647</th>\n",
       "      <td>personal</td>\n",
       "      <td>1</td>\n",
       "    </tr>\n",
       "  </tbody>\n",
       "</table>\n",
       "<p>648 rows × 2 columns</p>\n",
       "</div>"
      ],
      "text/plain": [
       "       palabra  contador\n",
       "23        para         9\n",
       "207       algo         9\n",
       "115     cuando         8\n",
       "76       woolf         7\n",
       "253       como         7\n",
       "..         ...       ...\n",
       "244  situación         1\n",
       "243    nuestra         1\n",
       "240      ciclo         1\n",
       "239  decidimos         1\n",
       "647   personal         1\n",
       "\n",
       "[648 rows x 2 columns]"
      ]
     },
     "execution_count": 19,
     "metadata": {},
     "output_type": "execute_result"
    }
   ],
   "source": [
    "import urllib\n",
    "from bs4 import BeautifulSoup\n",
    "url = \"https://wmagazin.com/relatos/se-debe-separar-al-autor-de-su-obra-se-puede-disfrutar-de-una-creacion-artistica-de-alguien-no-ejemplar/\" #URL from where we're going to request the text\n",
    "html = urllib.request.urlopen(url) # Get the content of the url and store it in a variable called html\n",
    "soup2 = BeautifulSoup(html) # Transform that content in a beautifoulsoup object\n",
    "\n",
    "tags = soup2('p') # Request to beautifulsoup to store every 'p' label found in the url in a variable called tags.\n",
    "discurso = '' # This variable will storage every word on the text to later count how many of each there are and elaborate a table with such information.\n",
    "\n",
    "# In this block I analyse and store the content of the 'p' tags that don't contain attributes (eliminating this way titles and repeated texts). I and add them to the 'discurso' variable\n",
    "for tag in tags:\n",
    "    if(len(tag.attrs))==0:\n",
    "        a = str(tag.contents[0])\n",
    "        discurso = discurso + a\n",
    "\n",
    "\n",
    "# I now create a dictionary and replace any special characters with blank spaces to just be left with the words.\n",
    "contadores = dict()\n",
    "discurso = discurso.replace(',','').replace('.','').replace(':','').replace('\"','').replace('<strong>','').replace('</strong>','').replace('¿','').replace('?','').lower()\n",
    "palabras = discurso.split()\n",
    "\n",
    "# I only store in  the table those words which contain more than 3 letters. This way i dont considerate prepositions or articles as words.\n",
    "for palabra in palabras:\n",
    "    if len(palabra)>3:\n",
    "        contadores[palabra] = contadores.get(palabra,0) + 1\n",
    "\n",
    "# I import the library pandas and make a table out of the statistcis that I gathered so far.\n",
    "import pandas\n",
    "pandas.DataFrame(list(contadores.items()),columns=['palabra', 'contador']).sort_values('contador', ascending = False)"
   ]
  }
 ],
 "metadata": {
  "kernelspec": {
   "display_name": "Python 3 (ipykernel)",
   "language": "python",
   "name": "python3"
  },
  "language_info": {
   "codemirror_mode": {
    "name": "ipython",
    "version": 3
   },
   "file_extension": ".py",
   "mimetype": "text/x-python",
   "name": "python",
   "nbconvert_exporter": "python",
   "pygments_lexer": "ipython3",
   "version": "3.11.7"
  }
 },
 "nbformat": 4,
 "nbformat_minor": 5
}
